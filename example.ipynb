{
 "cells": [
  {
   "cell_type": "code",
   "execution_count": 1,
   "id": "409f8696",
   "metadata": {},
   "outputs": [],
   "source": [
    "from parametricGarch import Garch\n",
    "import yfinance as yf\n",
    "import matplotlib.pyplot as plt\n",
    "%matplotlib inline"
   ]
  },
  {
   "cell_type": "code",
   "execution_count": 2,
   "id": "a4c2c046",
   "metadata": {},
   "outputs": [
    {
     "name": "stdout",
     "output_type": "stream",
     "text": [
      "[*********************100%***********************]  1 of 1 completed\n",
      "Date\n",
      "2012-01-04    0.018792\n",
      "2012-01-05    0.294372\n",
      "2012-01-06   -0.253696\n",
      "2012-01-09    0.226160\n",
      "2012-01-10    0.888577\n",
      "Name: Close, dtype: float64\n"
     ]
    }
   ],
   "source": [
    "# Download S&P 500 stock data\n",
    "stocks_data = yf.download('^GSPC', start='2012-01-01', end='2022-12-31')\n",
    "\n",
    "#extract close prices\n",
    "stocks_data = stocks_data['Close']\n",
    "\n",
    "# Calculate the returns and drop empty rows\n",
    "returns = stocks_data.pct_change().dropna() * 100\n",
    "\n",
    "# Print the returns\n",
    "print(returns.head())"
   ]
  },
  {
   "cell_type": "code",
   "execution_count": 3,
   "id": "0d90ced2",
   "metadata": {},
   "outputs": [
    {
     "data": {
      "image/png": "[encoded data removed]",
      "text/plain": [
       "<Figure size 720x360 with 2 Axes>"
      ]
     },
     "metadata": {
      "needs_background": "light"
     },
     "output_type": "display_data"
    }
   ],
   "source": [
    "# Plot of the stocks data and the returns\n",
    "fig, axs = plt.subplots(1, 2, figsize=(10, 5))\n",
    "\n",
    "axs[0].plot(stocks_data)\n",
    "axs[0].set_title('Stocks Data')\n",
    "\n",
    "axs[1].plot(returns)\n",
    "axs[1].set_title('Returns')\n",
    "\n",
    "plt.show()"
   ]
  },
  {
   "cell_type": "code",
   "execution_count": 4,
   "id": "7e2c3df5",
   "metadata": {},
   "outputs": [
    {
     "data": {
      "text/plain": [
       "<parametricGarch.parametric.Garch at 0x7fe9c5ba3a90>"
      ]
     },
     "execution_count": 4,
     "metadata": {},
     "output_type": "execute_result"
    }
   ],
   "source": [
    "# Call Garch function\n",
    "garch_model = Garch(returns) # using default paramters\n",
    "garch_model"
   ]
  },
  {
   "cell_type": "code",
   "execution_count": 5,
   "id": "3ab8c96e",
   "metadata": {},
   "outputs": [
    {
     "data": {
      "text/html": [
       "<table class=\"simpletable\">\n",
       "<caption>Constant Mean - GARCH Model Results</caption>\n",
       "<tr>\n",
       "  <th>Dep. Variable:</th>        <td>Close</td>       <th>  R-squared:         </th>  <td>   0.000</td> \n",
       "</tr>\n",
       "<tr>\n",
       "  <th>Mean Model:</th>       <td>Constant Mean</td>   <th>  Adj. R-squared:    </th>  <td>   0.000</td> \n",
       "</tr>\n",
       "<tr>\n",
       "  <th>Vol Model:</th>            <td>GARCH</td>       <th>  Log-Likelihood:    </th> <td>  -3443.55</td>\n",
       "</tr>\n",
       "<tr>\n",
       "  <th>Distribution:</th>        <td>Normal</td>       <th>  AIC:               </th> <td>   6895.11</td>\n",
       "</tr>\n",
       "<tr>\n",
       "  <th>Method:</th>        <td>Maximum Likelihood</td> <th>  BIC:               </th> <td>   6918.81</td>\n",
       "</tr>\n",
       "<tr>\n",
       "  <th></th>                        <td></td>          <th>  No. Observations:  </th>    <td>2767</td>   \n",
       "</tr>\n",
       "<tr>\n",
       "  <th>Date:</th>           <td>Tue, Jul 11 2023</td>  <th>  Df Residuals:      </th>    <td>2766</td>   \n",
       "</tr>\n",
       "<tr>\n",
       "  <th>Time:</th>               <td>10:01:47</td>      <th>  Df Model:          </th>      <td>1</td>    \n",
       "</tr>\n",
       "</table>\n",
       "<table class=\"simpletable\">\n",
       "<caption>Mean Model</caption>\n",
       "<tr>\n",
       "   <td></td>     <th>coef</th>     <th>std err</th>      <th>t</th>       <th>P>|t|</th>    <th>95.0% Conf. Int.</th>  \n",
       "</tr>\n",
       "<tr>\n",
       "  <th>mu</th> <td>    0.0830</td> <td>1.367e-02</td> <td>    6.072</td> <td>1.262e-09</td> <td>[5.620e-02,  0.110]</td>\n",
       "</tr>\n",
       "</table>\n",
       "<table class=\"simpletable\">\n",
       "<caption>Volatility Model</caption>\n",
       "<tr>\n",
       "      <td></td>        <th>coef</th>     <th>std err</th>      <th>t</th>        <th>P>|t|</th>     <th>95.0% Conf. Int.</th>   \n",
       "</tr>\n",
       "<tr>\n",
       "  <th>omega</th>    <td>    0.0412</td> <td>9.050e-03</td> <td>    4.553</td>  <td>5.283e-06</td> <td>[2.347e-02,5.894e-02]</td>\n",
       "</tr>\n",
       "<tr>\n",
       "  <th>alpha[1]</th> <td>    0.2005</td> <td>2.915e-02</td> <td>    6.878</td>  <td>6.056e-12</td>   <td>[  0.143,  0.258]</td>  \n",
       "</tr>\n",
       "<tr>\n",
       "  <th>beta[1]</th>  <td>    0.7659</td> <td>2.736e-02</td> <td>   27.994</td> <td>1.926e-172</td>   <td>[  0.712,  0.820]</td>  \n",
       "</tr>\n",
       "</table><br/><br/>Covariance estimator: robust"
      ],
      "text/plain": [
       "<class 'statsmodels.iolib.summary.Summary'>\n",
       "\"\"\"\n",
       "                     Constant Mean - GARCH Model Results                      \n",
       "==============================================================================\n",
       "Dep. Variable:                  Close   R-squared:                       0.000\n",
       "Mean Model:             Constant Mean   Adj. R-squared:                  0.000\n",
       "Vol Model:                      GARCH   Log-Likelihood:               -3443.55\n",
       "Distribution:                  Normal   AIC:                           6895.11\n",
       "Method:            Maximum Likelihood   BIC:                           6918.81\n",
       "                                        No. Observations:                 2767\n",
       "Date:                Tue, Jul 11 2023   Df Residuals:                     2766\n",
       "Time:                        10:01:47   Df Model:                            1\n",
       "                                Mean Model                                \n",
       "==========================================================================\n",
       "                 coef    std err          t      P>|t|    95.0% Conf. Int.\n",
       "--------------------------------------------------------------------------\n",
       "mu             0.0830  1.367e-02      6.072  1.262e-09 [5.620e-02,  0.110]\n",
       "                              Volatility Model                              \n",
       "============================================================================\n",
       "                 coef    std err          t      P>|t|      95.0% Conf. Int.\n",
       "----------------------------------------------------------------------------\n",
       "omega          0.0412  9.050e-03      4.553  5.283e-06 [2.347e-02,5.894e-02]\n",
       "alpha[1]       0.2005  2.915e-02      6.878  6.056e-12     [  0.143,  0.258]\n",
       "beta[1]        0.7659  2.736e-02     27.994 1.926e-172     [  0.712,  0.820]\n",
       "============================================================================\n",
       "\n",
       "Covariance estimator: robust\n",
       "\"\"\""
      ]
     },
     "execution_count": 5,
     "metadata": {},
     "output_type": "execute_result"
    }
   ],
   "source": [
    "# Model Summary\n",
    "garch_model.summary"
   ]
  },
  {
   "cell_type": "code",
   "execution_count": 6,
   "id": "9ef9f67a",
   "metadata": {},
   "outputs": [
    {
     "data": {
      "text/plain": [
       "Date\n",
       "2012-01-04    0.544674\n",
       "2012-01-05    0.518896\n",
       "2012-01-06    0.506347\n",
       "2012-01-09    0.510196\n",
       "2012-01-10    0.494653\n",
       "                ...   \n",
       "2022-12-23    1.286136\n",
       "2022-12-27    1.165769\n",
       "2022-12-28    1.062929\n",
       "2022-12-29    1.112476\n",
       "2022-12-30    1.242430\n",
       "Name: cond_vol, Length: 2767, dtype: float64"
      ]
     },
     "execution_count": 6,
     "metadata": {},
     "output_type": "execute_result"
    }
   ],
   "source": [
    "# Obtain the conditional volatility\n",
    "garch_model.conditional_volatility"
   ]
  },
  {
   "cell_type": "code",
   "execution_count": 7,
   "id": "236fa5df",
   "metadata": {},
   "outputs": [
    {
     "data": {
      "text/plain": [
       "<AxesSubplot:xlabel='Date'>"
      ]
     },
     "execution_count": 7,
     "metadata": {},
     "output_type": "execute_result"
    },
    {
     "data": {
      "image/png": "[encoded data removed]",
      "text/plain": [
       "<Figure size 432x288 with 1 Axes>"
      ]
     },
     "metadata": {
      "needs_background": "light"
     },
     "output_type": "display_data"
    }
   ],
   "source": [
    "# Checking if the standardised residuals resemble a white noise process\n",
    "std_resid = garch_model.standardised_residuals\n",
    "std_resid.plot()"
   ]
  },
  {
   "cell_type": "code",
   "execution_count": 8,
   "id": "8b381b34",
   "metadata": {},
   "outputs": [
    {
     "data": {
      "text/html": [
       "<div>\n",
       "<style scoped>\n",
       "    .dataframe tbody tr th:only-of-type {\n",
       "        vertical-align: middle;\n",
       "    }\n",
       "\n",
       "    .dataframe tbody tr th {\n",
       "        vertical-align: top;\n",
       "    }\n",
       "\n",
       "    .dataframe thead th {\n",
       "        text-align: right;\n",
       "    }\n",
       "</style>\n",
       "<table border=\"1\" class=\"dataframe\">\n",
       "  <thead>\n",
       "    <tr style=\"text-align: right;\">\n",
       "      <th></th>\n",
       "      <th>h.1</th>\n",
       "    </tr>\n",
       "    <tr>\n",
       "      <th>Date</th>\n",
       "      <th></th>\n",
       "    </tr>\n",
       "  </thead>\n",
       "  <tbody>\n",
       "    <tr>\n",
       "      <th>2022-12-30</th>\n",
       "      <td>0.082985</td>\n",
       "    </tr>\n",
       "  </tbody>\n",
       "</table>\n",
       "</div>"
      ],
      "text/plain": [
       "                 h.1\n",
       "Date                \n",
       "2022-12-30  0.082985"
      ]
     },
     "execution_count": 8,
     "metadata": {},
     "output_type": "execute_result"
    }
   ],
   "source": [
    "# Obtain the forecasted mean\n",
    "garch_model.forecast_mean"
   ]
  },
  {
   "cell_type": "code",
   "execution_count": 9,
   "id": "aa2dfb65",
   "metadata": {},
   "outputs": [
    {
     "data": {
      "text/html": [
       "<div>\n",
       "<style scoped>\n",
       "    .dataframe tbody tr th:only-of-type {\n",
       "        vertical-align: middle;\n",
       "    }\n",
       "\n",
       "    .dataframe tbody tr th {\n",
       "        vertical-align: top;\n",
       "    }\n",
       "\n",
       "    .dataframe thead th {\n",
       "        text-align: right;\n",
       "    }\n",
       "</style>\n",
       "<table border=\"1\" class=\"dataframe\">\n",
       "  <thead>\n",
       "    <tr style=\"text-align: right;\">\n",
       "      <th></th>\n",
       "      <th>h.1</th>\n",
       "    </tr>\n",
       "    <tr>\n",
       "      <th>Date</th>\n",
       "      <th></th>\n",
       "    </tr>\n",
       "  </thead>\n",
       "  <tbody>\n",
       "    <tr>\n",
       "      <th>2022-12-30</th>\n",
       "      <td>1.24626</td>\n",
       "    </tr>\n",
       "  </tbody>\n",
       "</table>\n",
       "</div>"
      ],
      "text/plain": [
       "                h.1\n",
       "Date               \n",
       "2022-12-30  1.24626"
      ]
     },
     "execution_count": 9,
     "metadata": {},
     "output_type": "execute_result"
    }
   ],
   "source": [
    "# Obtain the forecasted conditional variance\n",
    "garch_model.forecast_variance"
   ]
  },
  {
   "cell_type": "code",
   "execution_count": 10,
   "id": "4d57121f",
   "metadata": {},
   "outputs": [
    {
     "data": {
      "text/html": [
       "<div>\n",
       "<style scoped>\n",
       "    .dataframe tbody tr th:only-of-type {\n",
       "        vertical-align: middle;\n",
       "    }\n",
       "\n",
       "    .dataframe tbody tr th {\n",
       "        vertical-align: top;\n",
       "    }\n",
       "\n",
       "    .dataframe thead th {\n",
       "        text-align: right;\n",
       "    }\n",
       "</style>\n",
       "<table border=\"1\" class=\"dataframe\">\n",
       "  <thead>\n",
       "    <tr style=\"text-align: right;\">\n",
       "      <th></th>\n",
       "      <th>h.1</th>\n",
       "    </tr>\n",
       "    <tr>\n",
       "      <th>Date</th>\n",
       "      <th></th>\n",
       "    </tr>\n",
       "  </thead>\n",
       "  <tbody>\n",
       "    <tr>\n",
       "      <th>2022-12-30</th>\n",
       "      <td>1.24626</td>\n",
       "    </tr>\n",
       "  </tbody>\n",
       "</table>\n",
       "</div>"
      ],
      "text/plain": [
       "                h.1\n",
       "Date               \n",
       "2022-12-30  1.24626"
      ]
     },
     "execution_count": 10,
     "metadata": {},
     "output_type": "execute_result"
    }
   ],
   "source": [
    "# Obtain the forecasted conditional variance of the residuals\n",
    "garch_model.forecast_residual_variance"
   ]
  },
  {
   "cell_type": "code",
   "execution_count": 11,
   "id": "e32c0f12",
   "metadata": {},
   "outputs": [
    {
     "data": {
      "text/plain": [
       "True"
      ]
     },
     "execution_count": 11,
     "metadata": {},
     "output_type": "execute_result"
    }
   ],
   "source": [
    "# Parametric Bootstrapping Procedure\n",
    "garch_model.bootstrap(1000)"
   ]
  },
  {
   "cell_type": "code",
   "execution_count": 12,
   "id": "0d9bb57e",
   "metadata": {},
   "outputs": [
    {
     "data": {
      "text/html": [
       "<table class=\"simpletable\">\n",
       "<caption>Constant Mean - GARCH Model Results</caption>\n",
       "<tr>\n",
       "  <th>Dep. Variable:</th>      <td>std_resid</td>     <th>  R-squared:         </th>  <td>   0.000</td> \n",
       "</tr>\n",
       "<tr>\n",
       "  <th>Mean Model:</th>       <td>Constant Mean</td>   <th>  Adj. R-squared:    </th>  <td>   0.000</td> \n",
       "</tr>\n",
       "<tr>\n",
       "  <th>Vol Model:</th>            <td>GARCH</td>       <th>  Log-Likelihood:    </th> <td>  -3942.90</td>\n",
       "</tr>\n",
       "<tr>\n",
       "  <th>Distribution:</th>        <td>Normal</td>       <th>  AIC:               </th> <td>   7893.80</td>\n",
       "</tr>\n",
       "<tr>\n",
       "  <th>Method:</th>        <td>Maximum Likelihood</td> <th>  BIC:               </th> <td>   7917.50</td>\n",
       "</tr>\n",
       "<tr>\n",
       "  <th></th>                        <td></td>          <th>  No. Observations:  </th>    <td>2767</td>   \n",
       "</tr>\n",
       "<tr>\n",
       "  <th>Date:</th>           <td>Tue, Jul 11 2023</td>  <th>  Df Residuals:      </th>    <td>2766</td>   \n",
       "</tr>\n",
       "<tr>\n",
       "  <th>Time:</th>               <td>10:02:28</td>      <th>  Df Model:          </th>      <td>1</td>    \n",
       "</tr>\n",
       "</table>\n",
       "<table class=\"simpletable\">\n",
       "<caption>Mean Model</caption>\n",
       "<tr>\n",
       "   <td></td>     <th>coef</th>     <th>std err</th>      <th>t</th>       <th>P>|t|</th>      <th>95.0% Conf. Int.</th>    \n",
       "</tr>\n",
       "<tr>\n",
       "  <th>mu</th> <td>   -0.0507</td> <td>1.918e-02</td> <td>   -2.644</td> <td>8.200e-03</td> <td>[-8.832e-02,-1.312e-02]</td>\n",
       "</tr>\n",
       "</table>\n",
       "<table class=\"simpletable\">\n",
       "<caption>Volatility Model</caption>\n",
       "<tr>\n",
       "      <td></td>        <th>coef</th>     <th>std err</th>      <th>t</th>       <th>P>|t|</th>      <th>95.0% Conf. Int.</th>   \n",
       "</tr>\n",
       "<tr>\n",
       "  <th>omega</th>    <td>4.3494e-03</td> <td>2.611e-03</td> <td>    1.666</td> <td>9.570e-02</td> <td>[-7.673e-04,9.466e-03]</td>\n",
       "</tr>\n",
       "<tr>\n",
       "  <th>alpha[1]</th> <td>4.9179e-04</td> <td>2.130e-03</td> <td>    0.231</td> <td>    0.817</td> <td>[-3.682e-03,4.666e-03]</td>\n",
       "</tr>\n",
       "<tr>\n",
       "  <th>beta[1]</th>  <td>    0.9954</td> <td>3.878e-03</td> <td>  256.698</td>   <td>0.000</td>      <td>[  0.988,  1.003]</td>  \n",
       "</tr>\n",
       "</table><br/><br/>Covariance estimator: robust"
      ],
      "text/plain": [
       "<class 'statsmodels.iolib.summary.Summary'>\n",
       "\"\"\"\n",
       "                     Constant Mean - GARCH Model Results                      \n",
       "==============================================================================\n",
       "Dep. Variable:              std_resid   R-squared:                       0.000\n",
       "Mean Model:             Constant Mean   Adj. R-squared:                  0.000\n",
       "Vol Model:                      GARCH   Log-Likelihood:               -3942.90\n",
       "Distribution:                  Normal   AIC:                           7893.80\n",
       "Method:            Maximum Likelihood   BIC:                           7917.50\n",
       "                                        No. Observations:                 2767\n",
       "Date:                Tue, Jul 11 2023   Df Residuals:                     2766\n",
       "Time:                        10:02:28   Df Model:                            1\n",
       "                                  Mean Model                                  \n",
       "==============================================================================\n",
       "                 coef    std err          t      P>|t|        95.0% Conf. Int.\n",
       "------------------------------------------------------------------------------\n",
       "mu            -0.0507  1.918e-02     -2.644  8.200e-03 [-8.832e-02,-1.312e-02]\n",
       "                               Volatility Model                              \n",
       "=============================================================================\n",
       "                 coef    std err          t      P>|t|       95.0% Conf. Int.\n",
       "-----------------------------------------------------------------------------\n",
       "omega      4.3494e-03  2.611e-03      1.666  9.570e-02 [-7.673e-04,9.466e-03]\n",
       "alpha[1]   4.9179e-04  2.130e-03      0.231      0.817 [-3.682e-03,4.666e-03]\n",
       "beta[1]        0.9954  3.878e-03    256.698      0.000      [  0.988,  1.003]\n",
       "=============================================================================\n",
       "\n",
       "Covariance estimator: robust\n",
       "\"\"\""
      ]
     },
     "execution_count": 12,
     "metadata": {},
     "output_type": "execute_result"
    }
   ],
   "source": [
    "# Summary of the bootstrapped model\n",
    "garch_model.bootstrap_summary"
   ]
  },
  {
   "cell_type": "code",
   "execution_count": null,
   "id": "06b4c44a",
   "metadata": {},
   "outputs": [],
   "source": [
    "# List of forecasted mean and volatility of the bootstrapped sample\n",
    "garch_model.bootstrap_samples"
   ]
  },
  {
   "cell_type": "code",
   "execution_count": 13,
   "id": "1f5eae32",
   "metadata": {},
   "outputs": [
    {
     "data": {
      "text/plain": [
       "{'Mean Volatility': 0.9984501164403532,\n",
       " 'Volatility Confidence Interval': array([0.95519741, 1.05132102]),\n",
       " 'Mean VaR': -1.8134474000856617,\n",
       " 'VaR Confidence Interval': array([-1.92653535, -1.71521832])}"
      ]
     },
     "execution_count": 13,
     "metadata": {},
     "output_type": "execute_result"
    }
   ],
   "source": [
    "garch_model.estimate_risk(confidence_level=0.95, q='empirical')"
   ]
  }
 ],
 "metadata": {
  "kernelspec": {
   "display_name": "Python 3 (ipykernel)",
   "language": "python",
   "name": "python3"
  },
  "language_info": {
   "codemirror_mode": {
    "name": "ipython",
    "version": 3
   },
   "file_extension": ".py",
   "mimetype": "text/x-python",
   "name": "python",
   "nbconvert_exporter": "python",
   "pygments_lexer": "ipython3",
   "version": "3.9.12"
  }
 },
 "nbformat": 4,
 "nbformat_minor": 5
}
